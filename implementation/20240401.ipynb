{
 "cells": [
  {
   "cell_type": "code",
   "execution_count": 26,
   "metadata": {},
   "outputs": [
    {
     "name": "stdout",
     "output_type": "stream",
     "text": [
      "289\n",
      "2\n",
      "12\n",
      "2\n",
      "157\n"
     ]
    }
   ],
   "source": [
    "import sys\n",
    "input = sys.stdin.readline\n",
    "\n",
    "def main():\n",
    "    # get N\n",
    "    N = int(input())\n",
    "\n",
    "    # Somewhere to store reservation info\n",
    "    # If I don't append \n",
    "    info = [{\"T\": 0, \"S\": 0} for _ in range(366)]\n",
    "    # Receive input\n",
    "    max_days = 0\n",
    "    for i in range(N):\n",
    "        customer, start, end = input().split()\n",
    "        start, end = int(start), int(end)\n",
    "        for day in range(start - 1, end):\n",
    "            info[day][customer] += 1\n",
    "        max_days = max(max_days, end - start + 1)\n",
    "    # Go through info and get the information I need\n",
    "    more_than_one_customer = 0\n",
    "    max_customer = 0\n",
    "    non_fight_days = 0\n",
    "    non_fight_max_customer = 0\n",
    "    for day_info in info:\n",
    "        num_of_customer = sum(day_info.values())\n",
    "        if num_of_customer> 0:\n",
    "            more_than_one_customer += 1\n",
    "            max_customer = max(max_customer, num_of_customer)\n",
    "            if day_info[\"T\"] == day_info[\"S\"]:\n",
    "                non_fight_days += 1\n",
    "                non_fight_max_customer = max(non_fight_max_customer, num_of_customer)\n",
    "\n",
    "    print(more_than_one_customer)\n",
    "    print(max_customer)\n",
    "    print(non_fight_days)\n",
    "    print(non_fight_max_customer)\n",
    "    print(max_days)\n",
    "\n",
    "if __name__ == \"__main__\":\n",
    "    main()"
   ]
  }
 ],
 "metadata": {
  "kernelspec": {
   "display_name": "base",
   "language": "python",
   "name": "python3"
  },
  "language_info": {
   "codemirror_mode": {
    "name": "ipython",
    "version": 3
   },
   "file_extension": ".py",
   "mimetype": "text/x-python",
   "name": "python",
   "nbconvert_exporter": "python",
   "pygments_lexer": "ipython3",
   "version": "3.9.18"
  }
 },
 "nbformat": 4,
 "nbformat_minor": 2
}
