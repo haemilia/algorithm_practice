{
 "cells": [
  {
   "cell_type": "markdown",
   "metadata": {},
   "source": [
    "# Greedy Algorithms"
   ]
  },
  {
   "cell_type": "markdown",
   "metadata": {},
   "source": [
    "https://school.programmers.co.kr/learn/courses/30/lessons/258707\n",
    "\n",
    "- Failed to think of a good idea. So I looked at some other solutions.\n",
    "- Approach it this way: Try to minimize use of coins."
   ]
  },
  {
   "cell_type": "code",
   "execution_count": 48,
   "metadata": {},
   "outputs": [],
   "source": [
    "from collections import deque\n",
    "def possible(group1, group2, target):\n",
    "    # Check if it is possible to make target with combination of cards in group 1 and group 2\n",
    "    checking = set(group2)\n",
    "    for i in group1:\n",
    "        if (target - i) in checking:\n",
    "            # If you can make target, remove those two elements\n",
    "            # Where this occurs is important\n",
    "            group1.remove(i)\n",
    "            group2.remove(target - i)\n",
    "            return True\n",
    "    return False\n",
    "\n",
    "def solution(coin, cards):\n",
    "    n = len(cards)\n",
    "    currently_own = cards[:(n // 3)]\n",
    "    to_be_selected = deque(cards[(n//3):])\n",
    "    picked_up = []\n",
    "    round = 1\n",
    "    target_sum = n + 1\n",
    "\n",
    "    while coin >= 0 and to_be_selected:\n",
    "        # Select the two cards for this round\n",
    "        picked_up.append(to_be_selected.popleft())\n",
    "        picked_up.append(to_be_selected.popleft())\n",
    "\n",
    "        if possible(currently_own, currently_own, target_sum):\n",
    "            pass\n",
    "        elif coin >= 1 and possible(picked_up, currently_own, target_sum):\n",
    "            coin -= 1\n",
    "        elif coin >= 2 and possible(picked_up, picked_up, target_sum):\n",
    "            coin -= 2\n",
    "        else:\n",
    "            # Cannot continue game\n",
    "            break\n",
    "\n",
    "        # Move on to next round\n",
    "        round += 1\n",
    "        \n",
    "\n",
    "    return round"
   ]
  }
 ],
 "metadata": {
  "kernelspec": {
   "display_name": "base",
   "language": "python",
   "name": "python3"
  },
  "language_info": {
   "codemirror_mode": {
    "name": "ipython",
    "version": 3
   },
   "file_extension": ".py",
   "mimetype": "text/x-python",
   "name": "python",
   "nbconvert_exporter": "python",
   "pygments_lexer": "ipython3",
   "version": "3.9.18"
  }
 },
 "nbformat": 4,
 "nbformat_minor": 2
}
