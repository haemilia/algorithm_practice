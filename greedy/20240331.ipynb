{
 "cells": [
  {
   "cell_type": "markdown",
   "metadata": {},
   "source": [
    "[백준 11399 ATM](https://www.acmicpc.net/problem/11399)\n",
    "\n",
    "- 전에 한 번 풀어본 문제\n",
    "\n",
    "- ATM 1대\n",
    "- N 명의 사람이 줄 서 있음\n",
    "- 그 사람들은 1 ~ N 번까지 번호 있음\n",
    "- i번 사람은 인출할 때까지 $P_i$분 걸림\n",
    "- 뒤에 선 사람은 앞 사람이 인출할 때 걸리는 시간을 모두 기다리고 나서야 사용 가능\n",
    "\n",
    "\n",
    "### 문제 풀이 로직\n",
    "- "
   ]
  },
  {
   "cell_type": "code",
   "execution_count": null,
   "metadata": {},
   "outputs": [],
   "source": []
  }
 ],
 "metadata": {
  "language_info": {
   "name": "python"
  }
 },
 "nbformat": 4,
 "nbformat_minor": 2
}
